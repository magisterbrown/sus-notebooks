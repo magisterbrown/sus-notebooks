{
 "cells": [
  {
   "cell_type": "code",
   "execution_count": 37,
   "id": "6e272991",
   "metadata": {},
   "outputs": [
    {
     "name": "stdout",
     "output_type": "stream",
     "text": [
      "The autoreload extension is already loaded. To reload it, use:\n",
      "  %reload_ext autoreload\n"
     ]
    }
   ],
   "source": [
    "%load_ext autoreload\n",
    "%autoreload 2"
   ]
  },
  {
   "cell_type": "code",
   "execution_count": 66,
   "id": "024d0082",
   "metadata": {},
   "outputs": [],
   "source": [
    "import torch\n",
    "import numpy as np\n",
    "import pandas as pd\n",
    "import json\n",
    "import cv2\n",
    "import pickle\n",
    "from torch.utils.data import DataLoader\n",
    "import torch.nn.functional as F\n",
    "from tqdm import tqdm\n",
    "import torch.nn as nn\n",
    "import torchvision\n",
    "from CTImageQuality.models.edcnn import EDCNN\n",
    "from scipy.stats import pearsonr, spearmanr, kendalltau\n",
    "import matplotlib.pyplot as plt"
   ]
  },
  {
   "cell_type": "code",
   "execution_count": 40,
   "id": "26d2062e",
   "metadata": {},
   "outputs": [],
   "source": [
    "# load images\n",
    "\n",
    "lables_path = 'data/LDCTIQAG2023_train/train.json'\n",
    "images_dir = 'data/LDCTIQAG2023_train/image'\n",
    "\n",
    "def load_images(data):\n",
    "    \n",
    "    image_np = list()\n",
    "    for name,val in data.items():\n",
    "        img = cv2.imread(f'{images_dir}/{name}', cv2.IMREAD_UNCHANGED)\n",
    "        image_np.append(img)\n",
    "    return np.stack(image_np)\n",
    "\n",
    "with open(lables_path) as file:\n",
    "    all_lables = pd.Series(json.load(file))\n",
    "    \n",
    "all_images = load_images(all_lables)\n",
    "train_sz = 880\n",
    "train_lables, test_lables = all_lables[:train_sz], all_lables[train_sz:]\n",
    "train_images, test_images = all_images[:train_sz], all_images[train_sz:]"
   ]
  },
  {
   "cell_type": "code",
   "execution_count": 41,
   "id": "90c119d7",
   "metadata": {},
   "outputs": [],
   "source": [
    "class PairDS(torch.utils.data.IterableDataset):\n",
    "    def __init__(self, images, lables):\n",
    "        self.images = images\n",
    "        self.lables = lables\n",
    "\n",
    "    def __iter__(self):\n",
    "        self.unused = np.arange(0, self.images.shape[0])\n",
    "        np.random.shuffle(self.unused)\n",
    "        self.unused = iter(np.reshape(self.unused,(-1,2)))\n",
    "        return self.generator()\n",
    "    \n",
    "    def generator(self):\n",
    "        for ind1, ind2 in self.unused:\n",
    "            diff = self.lables.iloc[ind1] - self.lables.iloc[ind2]\n",
    "\n",
    "            yield self.images[ind1][np.newaxis], self.images[ind2][np.newaxis], diff"
   ]
  },
  {
   "cell_type": "code",
   "execution_count": 42,
   "id": "7f15295d",
   "metadata": {},
   "outputs": [],
   "source": [
    "class HydraModel(nn.Module):\n",
    "    def __init__(self, backbone, vector_size=1000):\n",
    "        super().__init__()\n",
    "        self.backbone = backbone\n",
    "        self.fc1 = nn.Linear(vector_size*2, 200) \n",
    "        self.fc2 = nn.Linear(200, 1) \n",
    "    \n",
    "    def forward(self, x):\n",
    "        im1, im2 = x\n",
    "        vec1 = self.backbone(im1)\n",
    "        vec2 = self.backbone(im2)\n",
    "        \n",
    "        combined = torch.cat((vec1, vec2),dim=1)\n",
    "        x = self.fc1(combined)\n",
    "        x = F.leaky_relu(x)\n",
    "        x = self.fc2(x)\n",
    "        \n",
    "        return x"
   ]
  },
  {
   "cell_type": "code",
   "execution_count": 43,
   "id": "4978c220",
   "metadata": {
    "scrolled": true
   },
   "outputs": [],
   "source": [
    "\n",
    "back = torchvision.models.resnet18()\n",
    "back.conv1 = torch.nn.Conv2d(1, 64, kernel_size=(7, 7), stride=(2, 2), padding=(3, 3), bias=False)\n",
    "edcnn = EDCNN()\n",
    "weigths = torch.load('weights/edcnn.pkl', map_location=torch.device(\"cuda\"))\n",
    "edcnn.load_state_dict(weigths)\n",
    "nnet = HydraModel(back)#cnn)\n",
    "nnet.train()\n",
    "nnet.cuda()\n",
    "pds = PairDS(all_images, all_lables)\n",
    "lld = DataLoader(pds,batch_size=10)\n",
    "optimizer = torch.optim.AdamW(nnet.parameters(), lr=0.001)"
   ]
  },
  {
   "cell_type": "code",
   "execution_count": 58,
   "id": "eaea702e",
   "metadata": {},
   "outputs": [],
   "source": [
    "def put_images_to_locations(model, test_images):\n",
    "    model.eval()\n",
    "    model_tensor = next(model.parameters())\n",
    "    unprocessed = iter(np.expand_dims(test_images,1))\n",
    "    processed = [next(unprocessed)]\n",
    "    results = [0]\n",
    "    with torch.no_grad():\n",
    "        for i,img in tqdm(enumerate(unprocessed)):\n",
    "            # Calculate relative position to every other image\n",
    "            processed_batched = DataLoader(processed,batch_size=64)\n",
    "            tensor_img = torch.unsqueeze(torch.from_numpy(img).to(model_tensor), 0)\n",
    "            relative_weights = list()\n",
    "            for batch in processed_batched:\n",
    "                matching_img = torch.broadcast_to(tensor_img, batch.shape)\n",
    "                relative_weights.append(model((matching_img, batch.to(model_tensor))))\n",
    "            processed.append(img)\n",
    "            relative_weights=torch.squeeze(torch.cat(relative_weights))\n",
    "            res = torch.tensor(results)+relative_weights.cpu()\n",
    "            results.append(res.mean().item())\n",
    "    model.train()\n",
    "    return results\n",
    "\n",
    "def validate_vector(total_pred, total_gt):\n",
    "    aggregate_results=dict()\n",
    "    aggregate_results[\"plcc\"] = abs(pearsonr(total_pred, total_gt)[0])\n",
    "    aggregate_results[\"srocc\"] = abs(spearmanr(total_pred, total_gt)[0])\n",
    "    aggregate_results[\"krocc\"] = abs(kendalltau(total_pred, total_gt)[0])\n",
    "    aggregate_results[\"overall\"] = abs(pearsonr(total_pred, total_gt)[0]) + abs(spearmanr(total_pred, total_gt)[0]) + abs(kendalltau(total_pred, total_gt)[0])\n",
    "    return aggregate_results\n",
    "\n",
    "# res = put_images_to_locations(nnet, test_images)"
   ]
  },
  {
   "cell_type": "code",
   "execution_count": 62,
   "id": "23ab0021",
   "metadata": {},
   "outputs": [
    {
     "data": {
      "text/plain": [
       "True"
      ]
     },
     "execution_count": 62,
     "metadata": {},
     "output_type": "execute_result"
    }
   ],
   "source": [
    "0%3==0"
   ]
  },
  {
   "cell_type": "code",
   "execution_count": 63,
   "id": "b1bf8440",
   "metadata": {},
   "outputs": [
    {
     "name": "stderr",
     "output_type": "stream",
     "text": [
      "119it [00:29,  4.08it/s]\n"
     ]
    },
    {
     "name": "stdout",
     "output_type": "stream",
     "text": [
      "Validation score: {'plcc': 0.9001068734453547, 'srocc': 0.918165834777437, 'krocc': 0.7672458490378625, 'overall': 2.585518557260654}\n"
     ]
    },
    {
     "name": "stderr",
     "output_type": "stream",
     "text": [
      "50it [00:07,  6.67it/s, loss=0.548]\n",
      "50it [00:07,  6.66it/s, loss=0.513]\n",
      "50it [00:07,  6.69it/s, loss=0.633]\n",
      "50it [00:07,  6.70it/s, loss=0.482]\n",
      "50it [00:07,  6.71it/s, loss=0.443]\n",
      "50it [00:07,  6.68it/s, loss=0.467]\n",
      "50it [00:07,  6.69it/s, loss=0.501]\n",
      "119it [00:29,  4.08it/s]\n"
     ]
    },
    {
     "name": "stdout",
     "output_type": "stream",
     "text": [
      "Validation score: {'plcc': 0.9552388958558873, 'srocc': 0.9572538934276825, 'krocc': 0.8379226806661396, 'overall': 2.7504154699497096}\n"
     ]
    },
    {
     "name": "stderr",
     "output_type": "stream",
     "text": [
      "50it [00:07,  6.68it/s, loss=0.352]\n",
      "50it [00:07,  6.60it/s, loss=0.508]\n",
      "50it [00:07,  6.65it/s, loss=0.309]\n",
      "50it [00:07,  6.69it/s, loss=0.389]\n",
      "50it [00:07,  6.70it/s, loss=0.413]\n",
      "50it [00:07,  6.65it/s, loss=0.293]\n",
      "50it [00:07,  6.64it/s, loss=0.273]\n",
      "119it [00:29,  4.08it/s]\n"
     ]
    },
    {
     "name": "stdout",
     "output_type": "stream",
     "text": [
      "Validation score: {'plcc': 0.7367096136484179, 'srocc': 0.7905660747887977, 'krocc': 0.609228542551877, 'overall': 2.1365042309890927}\n"
     ]
    },
    {
     "name": "stderr",
     "output_type": "stream",
     "text": [
      "50it [00:07,  6.66it/s, loss=0.315]\n",
      "50it [00:07,  6.65it/s, loss=0.318]\n",
      "50it [00:07,  6.64it/s, loss=0.219]\n",
      "50it [00:07,  6.65it/s, loss=0.297]\n",
      "50it [00:07,  6.63it/s, loss=0.243]\n",
      "50it [00:07,  6.68it/s, loss=0.312]\n",
      "50it [00:07,  6.69it/s, loss=0.35] \n",
      "119it [00:29,  4.08it/s]\n"
     ]
    },
    {
     "name": "stdout",
     "output_type": "stream",
     "text": [
      "Validation score: {'plcc': 0.9595355748796099, 'srocc': 0.9602769908793614, 'krocc': 0.8433814603447465, 'overall': 2.763194026103718}\n"
     ]
    },
    {
     "name": "stderr",
     "output_type": "stream",
     "text": [
      "50it [00:07,  6.64it/s, loss=0.316]\n",
      "50it [00:07,  6.66it/s, loss=0.289]\n",
      "50it [00:07,  6.68it/s, loss=0.296]\n",
      "50it [00:07,  6.69it/s, loss=0.244]\n",
      "50it [00:07,  6.68it/s, loss=0.339]\n",
      "50it [00:07,  6.63it/s, loss=0.239]\n",
      "50it [00:07,  6.69it/s, loss=0.265]\n",
      "119it [00:29,  4.07it/s]\n"
     ]
    },
    {
     "name": "stdout",
     "output_type": "stream",
     "text": [
      "Validation score: {'plcc': 0.9297653024323013, 'srocc': 0.9486159751624138, 'krocc': 0.8178113871133779, 'overall': 2.696192664708093}\n"
     ]
    },
    {
     "name": "stderr",
     "output_type": "stream",
     "text": [
      "50it [00:07,  6.68it/s, loss=0.278]\n",
      "50it [00:07,  6.63it/s, loss=0.249]\n",
      "50it [00:07,  6.64it/s, loss=0.262]\n",
      "50it [00:07,  6.64it/s, loss=0.229]\n",
      "50it [00:07,  6.65it/s, loss=0.194]\n",
      "50it [00:07,  6.67it/s, loss=0.213]\n",
      "50it [00:07,  6.66it/s, loss=0.202]\n"
     ]
    }
   ],
   "source": [
    "for epoch in range(35):\n",
    "    if epoch%7==0:\n",
    "        res = put_images_to_locations(nnet, test_images)\n",
    "        print(f'Validation score: {validate_vector(res,test_lables.values)}')\n",
    "    log = tqdm(enumerate(lld))\n",
    "    torch.save(nnet.state_dict(), 'hydra_point.pth')\n",
    "    for i, data in log:\n",
    "        model_tensor = next(nnet.parameters())\n",
    "        im1, im2, target = (x.to(model_tensor) for x in data)\n",
    "        pred = nnet((im1,im2))\n",
    "        loss = F.mse_loss(pred.squeeze(), target)\n",
    "        optimizer.zero_grad()\n",
    "        loss.backward()\n",
    "        optimizer.step()\n",
    "        itm = loss.item()\n",
    "        if i==0:\n",
    "            losser = itm\n",
    "        losser = losser*0.9+itm*0.1\n",
    "        log.set_postfix({\"loss\": losser})"
   ]
  },
  {
   "cell_type": "code",
   "execution_count": 21,
   "id": "505cd467",
   "metadata": {},
   "outputs": [],
   "source": [
    "import gc\n",
    "gc.collect()\n",
    "torch.cuda.empty_cache()"
   ]
  },
  {
   "cell_type": "code",
   "execution_count": 67,
   "id": "c2becc1e",
   "metadata": {},
   "outputs": [
    {
     "data": {
      "text/plain": [
       "[<matplotlib.lines.Line2D at 0x7f02c67d2020>]"
      ]
     },
     "execution_count": 67,
     "metadata": {},
     "output_type": "execute_result"
    },
    {
     "data": {
      "image/png": "[encoded data removed]",
      "text/plain": [
       "<Figure size 640x480 with 1 Axes>"
      ]
     },
     "metadata": {},
     "output_type": "display_data"
    }
   ],
   "source": [
    "plt.plot(res)"
   ]
  },
  {
   "cell_type": "code",
   "execution_count": null,
   "id": "5ea3fa8a",
   "metadata": {},
   "outputs": [],
   "source": []
  }
 ],
 "metadata": {
  "kernelspec": {
   "display_name": "Python 3 (ipykernel)",
   "language": "python",
   "name": "python3"
  },
  "language_info": {
   "codemirror_mode": {
    "name": "ipython",
    "version": 3
   },
   "file_extension": ".py",
   "mimetype": "text/x-python",
   "name": "python",
   "nbconvert_exporter": "python",
   "pygments_lexer": "ipython3",
   "version": "3.10.6"
  }
 },
 "nbformat": 4,
 "nbformat_minor": 5
}
