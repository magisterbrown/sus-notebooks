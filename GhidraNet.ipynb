{
 "cells": [
  {
   "cell_type": "code",
   "execution_count": 1,
   "id": "6e272991",
   "metadata": {},
   "outputs": [],
   "source": [
    "%load_ext autoreload\n",
    "%autoreload 2"
   ]
  },
  {
   "cell_type": "code",
   "execution_count": 2,
   "id": "024d0082",
   "metadata": {},
   "outputs": [],
   "source": [
    "import torch\n",
    "import numpy as np\n",
    "import pandas as pd\n",
    "import json\n",
    "import cv2\n",
    "import pickle\n",
    "from torch.utils.data import DataLoader\n",
    "import torch.nn.functional as F\n",
    "from tqdm import tqdm\n",
    "import torch.nn as nn\n",
    "import torchvision\n",
    "# from CTImageQuality.models.edcnn import EDCNN\n"
   ]
  },
  {
   "cell_type": "code",
   "execution_count": 3,
   "id": "26d2062e",
   "metadata": {},
   "outputs": [],
   "source": [
    "def load_images(data):\n",
    "    \n",
    "    image_np = list()\n",
    "    for name,val in data.items():\n",
    "        img = cv2.imread(f'image/{name}', cv2.IMREAD_UNCHANGED)\n",
    "        image_np.append(img)\n",
    "    return np.stack(image_np)\n",
    "\n",
    "with open('train.json') as file:\n",
    "    all_data = pd.Series(json.load(file))\n",
    "    \n",
    "ordered = load_images(all_data)"
   ]
  },
  {
   "cell_type": "code",
   "execution_count": 4,
   "id": "90c119d7",
   "metadata": {},
   "outputs": [],
   "source": [
    "class PairDS(torch.utils.data.IterableDataset):\n",
    "    def __init__(self, images, lables):\n",
    "        self.images = images\n",
    "        self.lables = lables\n",
    "\n",
    "    def __iter__(self):\n",
    "        self.unused = np.arange(0, self.images.shape[0])\n",
    "        np.random.shuffle(self.unused)\n",
    "        self.unused = iter(np.reshape(self.unused,(-1,2)))\n",
    "        return self.generator()\n",
    "    \n",
    "    def generator(self):\n",
    "        for ind1, ind2 in self.unused:\n",
    "            diff = self.lables.iloc[ind1] - self.lables.iloc[ind2]\n",
    "\n",
    "            yield self.images[ind1][np.newaxis], self.images[ind2][np.newaxis], diff"
   ]
  },
  {
   "cell_type": "code",
   "execution_count": 5,
   "id": "7f15295d",
   "metadata": {},
   "outputs": [],
   "source": [
    "class GhidraEDCNN(nn.Module):\n",
    "    def __init__(self, backbone, vector_size=1000):\n",
    "        super().__init__()\n",
    "        self.backbone = backbone\n",
    "        self.fc1 = nn.Linear(vector_size*2, 200) \n",
    "        self.fc2 = nn.Linear(200, 1) \n",
    "    \n",
    "    def forward(self, x):\n",
    "        im1, im2 = x\n",
    "        vec1 = self.backbone(im1)\n",
    "        vec2 = self.backbone(im2)\n",
    "        \n",
    "        combined = torch.cat((vec1, vec2),dim=1)\n",
    "        x = self.fc1(combined)\n",
    "        x = F.leaky_relu(x)\n",
    "        x = self.fc2(x)\n",
    "        \n",
    "        return x"
   ]
  },
  {
   "cell_type": "code",
   "execution_count": 6,
   "id": "4978c220",
   "metadata": {
    "scrolled": true
   },
   "outputs": [],
   "source": [
    "\n",
    "back = torchvision.models.resnet18()\n",
    "back.conv1 = torch.nn.Conv2d(1, 64, kernel_size=(7, 7), stride=(2, 2), padding=(3, 3), bias=False)\n",
    "nnet = GhidraEDCNN(back)\n",
    "# weigths = torch.load('edcnn_pretrain_weights.pkl', map_location=torch.device(\"cuda\"))\n",
    "# nnet.backbone.load_state_dict(weigths)\n",
    "nnet.cuda()\n",
    "pds = PairDS(ordered, all_data)\n",
    "lld = DataLoader(pds,batch_size=10)\n",
    "optimizer = torch.optim.AdamW(nnet.parameters(), lr=0.001)"
   ]
  },
  {
   "cell_type": "code",
   "execution_count": 7,
   "id": "b1bf8440",
   "metadata": {},
   "outputs": [
    {
     "name": "stderr",
     "output_type": "stream",
     "text": [
      "50it [01:02,  1.24s/it, loss=0.716]\n",
      "50it [01:00,  1.21s/it, loss=0.46] \n",
      "50it [01:01,  1.23s/it, loss=0.543]\n",
      "50it [01:02,  1.25s/it, loss=0.589]\n",
      "50it [01:02,  1.24s/it, loss=0.851]\n",
      "50it [01:03,  1.26s/it, loss=0.519]\n",
      "50it [01:03,  1.26s/it, loss=0.558]\n",
      "50it [01:03,  1.28s/it, loss=0.54] \n",
      "50it [01:03,  1.27s/it, loss=0.322]\n",
      "50it [01:06,  1.33s/it, loss=0.402]\n"
     ]
    }
   ],
   "source": [
    "for epoch in range(10):\n",
    "    log = tqdm(enumerate(lld))\n",
    "    torch.save(nnet.state_dict(), 'ghidra_point.pth')\n",
    "    for i, data in log:\n",
    "        model_tensor = next(nnet.parameters())\n",
    "        im1, im2, target = (x.to(model_tensor) for x in data)\n",
    "        pred = nnet((im1,im2))\n",
    "        loss = F.mse_loss(pred.squeeze(), target)\n",
    "        optimizer.zero_grad()\n",
    "        loss.backward()\n",
    "        optimizer.step()\n",
    "        itm = loss.item()\n",
    "        if i==0:\n",
    "            losser = itm\n",
    "        losser = losser*0.9+itm*0.1\n",
    "        log.set_postfix({\"loss\": losser})\n",
    "        \n",
    "    "
   ]
  },
  {
   "cell_type": "code",
   "execution_count": 10,
   "id": "505cd467",
   "metadata": {},
   "outputs": [],
   "source": [
    "import gc\n",
    "gc.collect()\n",
    "torch.cuda.empty_cache()"
   ]
  },
  {
   "cell_type": "code",
   "execution_count": null,
   "id": "c2becc1e",
   "metadata": {},
   "outputs": [],
   "source": []
  }
 ],
 "metadata": {
  "kernelspec": {
   "display_name": "grand",
   "language": "python",
   "name": "grand"
  },
  "language_info": {
   "codemirror_mode": {
    "name": "ipython",
    "version": 3
   },
   "file_extension": ".py",
   "mimetype": "text/x-python",
   "name": "python",
   "nbconvert_exporter": "python",
   "pygments_lexer": "ipython3",
   "version": "3.11.1+"
  }
 },
 "nbformat": 4,
 "nbformat_minor": 5
}
